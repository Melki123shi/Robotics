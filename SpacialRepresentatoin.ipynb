{
 "cells": [
  {
   "cell_type": "code",
   "execution_count": 1,
   "id": "5d214ad1-bc16-4b3a-bf1e-fe092ad86bb1",
   "metadata": {},
   "outputs": [],
   "source": [
    "import numpy as np"
   ]
  },
  {
   "cell_type": "markdown",
   "id": "5db23d74-7cdd-4dd0-8c1b-808ada72b2bc",
   "metadata": {},
   "source": [
    "## **Rotation Matrix to X-Y-Z Fixed Angle**"
   ]
  },
  {
   "cell_type": "code",
   "execution_count": 2,
   "id": "302bcf78-b9b0-4d59-b989-7e7f9975afca",
   "metadata": {},
   "outputs": [],
   "source": [
    "def Rotational_matrix_to_XYZ_fixed_angle(Rxyz):\n",
    "    r11, r12, r13 = Rxyz[0]\n",
    "    r21, r22, r23 = Rxyz[1]\n",
    "    r31, r32, r33 = Rxyz[2]\n",
    "\n",
    "    beta = np.degrees(np.arctan2(-r31, (np.sqrt(r11**2 + r21**2))))\n",
    "    alpha = np.degrees(np.arctan2(r21/np.cos(beta), r11/np.cos(beta)))\n",
    "    gama = np.degrees(np.arctan2(r32/np.cos(beta), r33/np.cos(beta)))\n",
    "\n",
    "    alpha, beta, gama = np.round([alpha, beta, gama], 0)\n",
    "\n",
    "    return np.array([alpha,beta,gama])"
   ]
  },
  {
   "cell_type": "markdown",
   "id": "0bbc733c-c237-40dd-a9ce-d38e4de56687",
   "metadata": {},
   "source": [
    "## **X-Y-Z Fixed Angle to Rotation Matrix**"
   ]
  },
  {
   "cell_type": "code",
   "execution_count": 3,
   "id": "364ca077-6d3f-425e-9796-ed3298dced72",
   "metadata": {},
   "outputs": [],
   "source": [
    "def XYZ_fixed_angle_to_Rotational_matrix(XYZ_fixed_angle):\n",
    "    alpha, beta, gama = XYZ_fixed_angle\n",
    "\n",
    "    cos_alpha = np.cos(np.deg2rad(alpha))\n",
    "    cos_beta = np.cos(np.deg2rad(beta))\n",
    "    cos_gama = np.cos(np.deg2rad(gama))\n",
    "    sin_alpha = np.sin(np.deg2rad(alpha))\n",
    "    sin_beta = np.sin(np.deg2rad(beta))\n",
    "    sin_gama = np.sin(np.deg2rad(gama))\n",
    "\n",
    "    r11 = cos_alpha*cos_beta\n",
    "    r12 = (cos_alpha*sin_beta*sin_gama) - (sin_alpha*cos_gama)\n",
    "    r13 = (cos_alpha*sin_beta*cos_gama) + (sin_alpha*sin_gama)\n",
    "    r21 = sin_alpha*cos_beta\n",
    "    r22 = (sin_alpha*sin_beta*sin_gama) + (cos_alpha*cos_gama)\n",
    "    r23 = (sin_alpha*sin_beta*cos_gama) - (cos_alpha*sin_gama)\n",
    "    r31 = -1*sin_beta\n",
    "    r32 = cos_beta*sin_gama\n",
    "    r33 = cos_beta*cos_gama\n",
    "\n",
    "    Rxyz = np.array([\n",
    "        [round(r11,3), round(r12,3), round(r13,3)],\n",
    "        [round(r21,3), round(r22, 3), round(r23,3)],\n",
    "        [round(r31,3), round(r32,3), round(r33,3)],\n",
    "    ])\n",
    "\n",
    "    return Rxyz\n"
   ]
  },
  {
   "cell_type": "markdown",
   "id": "853d99bb-b263-41ae-9a70-e863fa718951",
   "metadata": {},
   "source": [
    "### **Test1**"
   ]
  },
  {
   "cell_type": "code",
   "execution_count": 4,
   "id": "7846aa5e-f982-4922-9879-6092d2e00448",
   "metadata": {},
   "outputs": [
    {
     "data": {
      "text/plain": [
       "array([[ 0.557,  0.663,  0.5  ],\n",
       "       [ 0.321,  0.383, -0.866],\n",
       "       [-0.766,  0.643,  0.   ]])"
      ]
     },
     "execution_count": 4,
     "metadata": {},
     "output_type": "execute_result"
    }
   ],
   "source": [
    "rotation_matrix = XYZ_fixed_angle_to_Rotational_matrix([30,50,90])\n",
    "rotation_matrix"
   ]
  },
  {
   "cell_type": "code",
   "execution_count": 6,
   "id": "a6a6ac27-5bac-4636-8c82-f5e054070b86",
   "metadata": {},
   "outputs": [
    {
     "data": {
      "text/plain": [
       "array([30., 50., 90.])"
      ]
     },
     "execution_count": 6,
     "metadata": {},
     "output_type": "execute_result"
    }
   ],
   "source": [
    "xyz_fixed_angle = Rotational_matrix_to_XYZ_fixed_angle(rotation_matrix)\n",
    "xyz_fixed_angle"
   ]
  },
  {
   "cell_type": "markdown",
   "id": "4e58e010-dab4-4c9e-bbd5-e3ee6c556360",
   "metadata": {},
   "source": [
    "## **Rotation Matrix to Z-Y-Z Euler Angle**"
   ]
  },
  {
   "cell_type": "code",
   "execution_count": 7,
   "id": "66da0ea8-d613-4552-b375-6514cee0de1b",
   "metadata": {},
   "outputs": [],
   "source": [
    "def Rotational_matrix_to_ZYZ_euler_angle(Rzyz):\n",
    "    r11, r12, r13 = Rzyz[0]\n",
    "    r21, r22, r23 = Rzyz[1]\n",
    "    r31, r32, r33 = Rzyz[2]\n",
    "   \n",
    "\n",
    "    beta = [np.degrees(np.arctan2(np.sqrt(r13**2+r23**2),r33)), np.degrees(-1*np.arctan2(np.sqrt(r13**2+r23**2),r33))]\n",
    "    alpha = np.degrees(np.arctan2( (r23/np.sin(np.deg2rad(beta))), (r13/np.sin(np.deg2rad(beta)))))\n",
    "    gama = np.degrees(np.arctan2((r32/np.sin(np.deg2rad(beta))), -1*(r31/np.sin(np.deg2rad(beta)))))\n",
    "\n",
    "    alpha, beta, gama = np.round([alpha, beta, gama], 0)\n",
    "    return np.array([alpha, beta, gama])\n",
    "    "
   ]
  },
  {
   "cell_type": "markdown",
   "id": "266191f3-6ac6-4fb0-84fd-88c01c7cf91a",
   "metadata": {},
   "source": [
    "### **Z-Y-Z Euler Angle to Rotation Matrix**"
   ]
  },
  {
   "cell_type": "code",
   "execution_count": 8,
   "id": "564dca3e-60b0-4674-9357-0abf580f3cc8",
   "metadata": {},
   "outputs": [],
   "source": [
    "def ZYZ_euler_angle_to_Rotational_matrix(ZYZ_fixed_angle):\n",
    "    alpha, beta, gama = ZYZ_fixed_angle\n",
    "\n",
    "    cos_alpha = np.cos(np.deg2rad(alpha))\n",
    "    cos_beta = np.cos(np.deg2rad(beta))\n",
    "    cos_gama = np.cos(np.deg2rad(gama))\n",
    "    sin_alpha = np.sin(np.deg2rad(alpha))\n",
    "    sin_beta = np.sin(np.deg2rad(beta))\n",
    "    sin_gama = np.sin(np.deg2rad(gama))\n",
    "\n",
    "    r11 = (cos_alpha*cos_beta*cos_gama) - (sin_alpha*sin_gama)\n",
    "    r12 = (-1*sin_alpha*cos_gama) - (cos_alpha*cos_beta*sin_gama)\n",
    "    r13 = cos_alpha*sin_beta\n",
    "    r21 = (sin_alpha*cos_beta*cos_gama) + (cos_alpha*sin_gama)\n",
    "    r22 = (cos_alpha*cos_gama) - (sin_alpha*cos_beta*sin_gama)\n",
    "    r23 = sin_alpha*sin_beta\n",
    "    r31 = sin_beta*cos_gama\n",
    "    r32 = -1*sin_beta*sin_gama\n",
    "    r33 = cos_beta\n",
    "\n",
    "    Rzyz = np.array([\n",
    "        [round(r11,3), round(r12,3), round(r13,3)],\n",
    "        [round(r21,3), round(r22, 3), round(r23,3)],\n",
    "        [round(r31,3), round(r32,3), round(r33,3)],\n",
    "    ])\n",
    "\n",
    "    return Rzyz"
   ]
  },
  {
   "cell_type": "markdown",
   "id": "a752b805-ee0b-4044-9ea3-a947b6ec6625",
   "metadata": {},
   "source": [
    "### **Test2**"
   ]
  },
  {
   "cell_type": "code",
   "execution_count": 9,
   "id": "03212a7b-6462-411a-a823-2d2c8aff6b17",
   "metadata": {},
   "outputs": [
    {
     "data": {
      "text/plain": [
       "array([[-0.5  , -0.557,  0.663],\n",
       "       [ 0.866, -0.321,  0.383],\n",
       "       [ 0.   , -0.766,  0.643]])"
      ]
     },
     "execution_count": 9,
     "metadata": {},
     "output_type": "execute_result"
    }
   ],
   "source": [
    "rotation_matrix = ZYZ_euler_angle_to_Rotational_matrix([30,50,90])\n",
    "rotation_matrix"
   ]
  },
  {
   "cell_type": "code",
   "execution_count": 10,
   "id": "681cd5f7-5013-497b-9863-daca9b6d3c9e",
   "metadata": {},
   "outputs": [
    {
     "data": {
      "text/plain": [
       "array([[  30., -150.],\n",
       "       [  50.,  -50.],\n",
       "       [ -90.,   90.]])"
      ]
     },
     "execution_count": 10,
     "metadata": {},
     "output_type": "execute_result"
    }
   ],
   "source": [
    "zyz_euler_angle = Rotational_matrix_to_ZYZ_euler_angle(rotation_matrix)\n",
    "zyz_euler_angle"
   ]
  },
  {
   "cell_type": "markdown",
   "id": "ed9b4818-86d4-4b88-8613-79a1847a094c",
   "metadata": {},
   "source": [
    "## **Rotaton Matrix to Eulers Parameter**"
   ]
  },
  {
   "cell_type": "code",
   "execution_count": 11,
   "id": "df8901cf-7446-4cd3-91d1-731cdc4df23e",
   "metadata": {},
   "outputs": [],
   "source": [
    "def Rotaton_Matrix_to_Eulers_Parameter(Re):\n",
    "    r11, r12, r13 = Re[0]\n",
    "    r21, r22, r23 = Re[1]\n",
    "    r31, r32, r33 = Re[2]\n",
    "\n",
    "    e1, e2, e3, e4 = None, None, None, None \n",
    "\n",
    "    e4 = 0.5 * np.sqrt(1 + r11 + r22 + r33)\n",
    "    if e4 != 0:\n",
    "        e1 = (r32 - r23) / (4 * e4)\n",
    "        e2 = (r13 - r31) / (4 * e4)\n",
    "        e3 = (r21 - r12) / (4 * e4)\n",
    "\n",
    "    return e1, e2, e3, e4"
   ]
  },
  {
   "cell_type": "markdown",
   "id": "877ccc69-0e41-4f10-8ee8-6503a3191bde",
   "metadata": {},
   "source": [
    "## **Eulers Parameter Rotaton Matrix**"
   ]
  },
  {
   "cell_type": "code",
   "execution_count": 12,
   "id": "abd3884f-7984-4b95-826c-2a8e15da171e",
   "metadata": {},
   "outputs": [],
   "source": [
    "def Eulers_Parameter_Rotaton_Matrix(e1, e2, e3, e4):\n",
    "    r11 = 1 - (2 * e2**2) - (2 * e3**2)\n",
    "    r12 = 2 * ((e1 * e2) - (e3 * e4))\n",
    "    r13 = 2 * ((e1 * e3) + (e2 * e4)) \n",
    "    r21 = 2 * ((e1 * e2) + (e3 * e4))\n",
    "    r22 = 1 - (2 * e1**2) - (2 * e3**2)\n",
    "    r23 = 2 * ((e2 * e3) - (e1 * e4))\n",
    "    r31 = 2 * ((e1 * e3) - (e2 * e4))\n",
    "    r32 = 2 * ((e2 * e3) + (e1 * e4))\n",
    "    r33 = 1 - (2 * e1**2) - (2 * e2**2)\n",
    "\n",
    "    Re = np.array([\n",
    "        [r11, r12, r13],\n",
    "        [r21, r22, r23],\n",
    "        [r31, r32, r33]\n",
    "    ])\n",
    "\n",
    "    return Re"
   ]
  },
  {
   "cell_type": "markdown",
   "id": "7775bb65-87da-4c2a-8563-08b60f406d9d",
   "metadata": {},
   "source": [
    "### **Test3**"
   ]
  },
  {
   "cell_type": "code",
   "execution_count": 13,
   "id": "76ddb567-e0db-484e-8dca-c675504bb36d",
   "metadata": {},
   "outputs": [
    {
     "data": {
      "text/plain": [
       "array([[1., 0., 0.],\n",
       "       [0., 1., 0.],\n",
       "       [0., 0., 1.]])"
      ]
     },
     "execution_count": 13,
     "metadata": {},
     "output_type": "execute_result"
    }
   ],
   "source": [
    "rotation_matrix = Eulers_Parameter_Rotaton_Matrix(0.0, 0.0, 0.0, 1.0)\n",
    "rotation_matrix"
   ]
  },
  {
   "cell_type": "code",
   "execution_count": 14,
   "id": "4d0719dc-6e86-42e1-b07c-6461bb26d31e",
   "metadata": {},
   "outputs": [
    {
     "data": {
      "text/plain": [
       "(0.0, 0.0, 0.0, 1.0)"
      ]
     },
     "execution_count": 14,
     "metadata": {},
     "output_type": "execute_result"
    }
   ],
   "source": [
    "euler_parameters = Rotaton_Matrix_to_Eulers_Parameter(rotation_matrix)\n",
    "euler_parameters"
   ]
  },
  {
   "cell_type": "code",
   "execution_count": null,
   "id": "a39a112a-eec2-451d-b7a8-1982ff6c7e3b",
   "metadata": {},
   "outputs": [],
   "source": []
  }
 ],
 "metadata": {
  "kernelspec": {
   "display_name": "Python 3 (ipykernel)",
   "language": "python",
   "name": "python3"
  },
  "language_info": {
   "codemirror_mode": {
    "name": "ipython",
    "version": 3
   },
   "file_extension": ".py",
   "mimetype": "text/x-python",
   "name": "python",
   "nbconvert_exporter": "python",
   "pygments_lexer": "ipython3",
   "version": "3.10.12"
  }
 },
 "nbformat": 4,
 "nbformat_minor": 5
}
